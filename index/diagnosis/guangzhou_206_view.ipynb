{
 "cells": [
  {
   "cell_type": "code",
   "execution_count": 1,
   "metadata": {},
   "outputs": [],
   "source": [
    "import pandas as pd"
   ]
  },
  {
   "cell_type": "code",
   "execution_count": 2,
   "metadata": {},
   "outputs": [
    {
     "data": {
      "text/plain": [
       "Index(['序号', 'ID', 'psg_uid', 'RBD', 'PD', '对照组',\n",
       "       'UPDRS_iii:\\r\\n统一帕金森氏症评定量表,是用来纵向衡量帕金森氏症发展情形的估量表',\n",
       "       'MOCA SUM:\\r\\n蒙特利尔认知评估量表，用于检测认知功能障碍',\n",
       "       'MOCAADJU (adjusted moca改良moca，效果类似)', 'gender', '出生年月', 'age', '原始诊断',\n",
       "       'path', 'duration', 'split'],\n",
       "      dtype='object')"
      ]
     },
     "execution_count": 2,
     "metadata": {},
     "output_type": "execute_result"
    }
   ],
   "source": [
    "index = pd.read_csv(\"guangzhou_206.csv\")\n",
    "index.columns"
   ]
  },
  {
   "cell_type": "code",
   "execution_count": 3,
   "metadata": {},
   "outputs": [
    {
     "data": {
      "text/html": [
       "<div>\n",
       "<style scoped>\n",
       "    .dataframe tbody tr th:only-of-type {\n",
       "        vertical-align: middle;\n",
       "    }\n",
       "\n",
       "    .dataframe tbody tr th {\n",
       "        vertical-align: top;\n",
       "    }\n",
       "\n",
       "    .dataframe thead th {\n",
       "        text-align: right;\n",
       "    }\n",
       "</style>\n",
       "<table border=\"1\" class=\"dataframe\">\n",
       "  <thead>\n",
       "    <tr style=\"text-align: right;\">\n",
       "      <th></th>\n",
       "      <th>negative</th>\n",
       "      <th>positive</th>\n",
       "      <th>valid</th>\n",
       "      <th>neg/pos</th>\n",
       "    </tr>\n",
       "  </thead>\n",
       "  <tbody>\n",
       "    <tr>\n",
       "      <th>RBD</th>\n",
       "      <td>136.0</td>\n",
       "      <td>39.0</td>\n",
       "      <td>175.0</td>\n",
       "      <td>3.487179</td>\n",
       "    </tr>\n",
       "    <tr>\n",
       "      <th>PD</th>\n",
       "      <td>157.0</td>\n",
       "      <td>18.0</td>\n",
       "      <td>175.0</td>\n",
       "      <td>8.722222</td>\n",
       "    </tr>\n",
       "    <tr>\n",
       "      <th>对照组</th>\n",
       "      <td>57.0</td>\n",
       "      <td>118.0</td>\n",
       "      <td>175.0</td>\n",
       "      <td>0.483051</td>\n",
       "    </tr>\n",
       "  </tbody>\n",
       "</table>\n",
       "</div>"
      ],
      "text/plain": [
       "     negative  positive  valid   neg/pos\n",
       "RBD     136.0      39.0  175.0  3.487179\n",
       "PD      157.0      18.0  175.0  8.722222\n",
       "对照组      57.0     118.0  175.0  0.483051"
      ]
     },
     "execution_count": 3,
     "metadata": {},
     "output_type": "execute_result"
    }
   ],
   "source": [
    "df = pd.DataFrame()\n",
    "for col in ['RBD', 'PD', '对照组']:\n",
    "    df.loc[col, \"negative\"] = (index[col] == 0).sum()\n",
    "    df.loc[col, \"positive\"] = (index[col] == 1).sum()\n",
    "df[\"valid\"] = df[\"negative\"] + df[\"positive\"]\n",
    "df[\"neg/pos\"] = df[\"negative\"] / df[\"positive\"]\n",
    "df"
   ]
  }
 ],
 "metadata": {
  "kernelspec": {
   "display_name": "dl",
   "language": "python",
   "name": "python3"
  },
  "language_info": {
   "codemirror_mode": {
    "name": "ipython",
    "version": 3
   },
   "file_extension": ".py",
   "mimetype": "text/x-python",
   "name": "python",
   "nbconvert_exporter": "python",
   "pygments_lexer": "ipython3",
   "version": "3.11.7"
  }
 },
 "nbformat": 4,
 "nbformat_minor": 2
}
