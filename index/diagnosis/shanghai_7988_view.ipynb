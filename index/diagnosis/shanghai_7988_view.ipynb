{
 "cells": [
  {
   "cell_type": "code",
   "execution_count": 1,
   "metadata": {},
   "outputs": [],
   "source": [
    "import pandas as pd"
   ]
  },
  {
   "cell_type": "code",
   "execution_count": 2,
   "metadata": {},
   "outputs": [
    {
     "data": {
      "text/plain": [
       "Index(['psg_uid', 'patient_id', 'gender', 'psg_age', 'hypertension',\n",
       "       'diabetes', 'hyperlipidemia', 'smoke', 'drink', 'path', 'duration',\n",
       "       'split'],\n",
       "      dtype='object')"
      ]
     },
     "execution_count": 2,
     "metadata": {},
     "output_type": "execute_result"
    }
   ],
   "source": [
    "shanghai = pd.read_csv(\"shanghai_7988.csv\")\n",
    "shanghai.columns"
   ]
  },
  {
   "cell_type": "code",
   "execution_count": 3,
   "metadata": {},
   "outputs": [
    {
     "data": {
      "text/html": [
       "<div>\n",
       "<style scoped>\n",
       "    .dataframe tbody tr th:only-of-type {\n",
       "        vertical-align: middle;\n",
       "    }\n",
       "\n",
       "    .dataframe tbody tr th {\n",
       "        vertical-align: top;\n",
       "    }\n",
       "\n",
       "    .dataframe thead th {\n",
       "        text-align: right;\n",
       "    }\n",
       "</style>\n",
       "<table border=\"1\" class=\"dataframe\">\n",
       "  <thead>\n",
       "    <tr style=\"text-align: right;\">\n",
       "      <th></th>\n",
       "      <th>negative</th>\n",
       "      <th>positive</th>\n",
       "      <th>valid</th>\n",
       "      <th>neg/pos</th>\n",
       "    </tr>\n",
       "  </thead>\n",
       "  <tbody>\n",
       "    <tr>\n",
       "      <th>hypertension</th>\n",
       "      <td>5010.0</td>\n",
       "      <td>333.0</td>\n",
       "      <td>5343.0</td>\n",
       "      <td>15.045045</td>\n",
       "    </tr>\n",
       "    <tr>\n",
       "      <th>diabetes</th>\n",
       "      <td>4994.0</td>\n",
       "      <td>339.0</td>\n",
       "      <td>5333.0</td>\n",
       "      <td>14.731563</td>\n",
       "    </tr>\n",
       "    <tr>\n",
       "      <th>hyperlipidemia</th>\n",
       "      <td>4086.0</td>\n",
       "      <td>258.0</td>\n",
       "      <td>4344.0</td>\n",
       "      <td>15.837209</td>\n",
       "    </tr>\n",
       "    <tr>\n",
       "      <th>smoke</th>\n",
       "      <td>4912.0</td>\n",
       "      <td>415.0</td>\n",
       "      <td>5327.0</td>\n",
       "      <td>11.836145</td>\n",
       "    </tr>\n",
       "    <tr>\n",
       "      <th>drink</th>\n",
       "      <td>1058.0</td>\n",
       "      <td>4198.0</td>\n",
       "      <td>5256.0</td>\n",
       "      <td>0.252025</td>\n",
       "    </tr>\n",
       "  </tbody>\n",
       "</table>\n",
       "</div>"
      ],
      "text/plain": [
       "                negative  positive   valid    neg/pos\n",
       "hypertension      5010.0     333.0  5343.0  15.045045\n",
       "diabetes          4994.0     339.0  5333.0  14.731563\n",
       "hyperlipidemia    4086.0     258.0  4344.0  15.837209\n",
       "smoke             4912.0     415.0  5327.0  11.836145\n",
       "drink             1058.0    4198.0  5256.0   0.252025"
      ]
     },
     "execution_count": 3,
     "metadata": {},
     "output_type": "execute_result"
    }
   ],
   "source": [
    "df = pd.DataFrame()\n",
    "for col in \"hypertension\", \"diabetes\", \"hyperlipidemia\", \"smoke\", \"drink\":\n",
    "    df.loc[col, \"negative\"] = (shanghai[col] == 0).sum()\n",
    "    df.loc[col, \"positive\"] = (shanghai[col] == 1).sum()\n",
    "df[\"valid\"] = df[\"negative\"] + df[\"positive\"]\n",
    "df[\"neg/pos\"] = df[\"negative\"] / df[\"positive\"]\n",
    "df"
   ]
  },
  {
   "cell_type": "code",
   "execution_count": 4,
   "metadata": {},
   "outputs": [
    {
     "data": {
      "text/plain": [
       "3802"
      ]
     },
     "execution_count": 4,
     "metadata": {},
     "output_type": "execute_result"
    }
   ],
   "source": [
    "healthy = shanghai[(shanghai[\"hypertension\"] == 0) & (shanghai[\"diabetes\"] == 0) & (shanghai[\"hyperlipidemia\"] == 0)]\n",
    "len(healthy)"
   ]
  }
 ],
 "metadata": {
  "kernelspec": {
   "display_name": "dl",
   "language": "python",
   "name": "python3"
  },
  "language_info": {
   "codemirror_mode": {
    "name": "ipython",
    "version": 3
   },
   "file_extension": ".py",
   "mimetype": "text/x-python",
   "name": "python",
   "nbconvert_exporter": "python",
   "pygments_lexer": "ipython3",
   "version": "3.11.7"
  }
 },
 "nbformat": 4,
 "nbformat_minor": 2
}
