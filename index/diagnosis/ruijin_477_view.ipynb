{
 "cells": [
  {
   "cell_type": "code",
   "execution_count": 1,
   "metadata": {},
   "outputs": [],
   "source": [
    "import pandas as pd"
   ]
  },
  {
   "cell_type": "code",
   "execution_count": 2,
   "metadata": {},
   "outputs": [
    {
     "data": {
      "text/plain": [
       "Index(['uid', 'name', 'gender', 'age', 'height', 'weight', 'date_of_birthday',\n",
       "       'date_of_record', 'pd', 'msa', 'rbd', 'cos_dirpath', 'path', 'duration',\n",
       "       'split'],\n",
       "      dtype='object')"
      ]
     },
     "execution_count": 2,
     "metadata": {},
     "output_type": "execute_result"
    }
   ],
   "source": [
    "index = pd.read_csv(\"ruijin_477.csv\")\n",
    "index.columns"
   ]
  },
  {
   "cell_type": "code",
   "execution_count": 3,
   "metadata": {},
   "outputs": [
    {
     "data": {
      "text/html": [
       "<div>\n",
       "<style scoped>\n",
       "    .dataframe tbody tr th:only-of-type {\n",
       "        vertical-align: middle;\n",
       "    }\n",
       "\n",
       "    .dataframe tbody tr th {\n",
       "        vertical-align: top;\n",
       "    }\n",
       "\n",
       "    .dataframe thead th {\n",
       "        text-align: right;\n",
       "    }\n",
       "</style>\n",
       "<table border=\"1\" class=\"dataframe\">\n",
       "  <thead>\n",
       "    <tr style=\"text-align: right;\">\n",
       "      <th></th>\n",
       "      <th>negative</th>\n",
       "      <th>positive</th>\n",
       "      <th>valid</th>\n",
       "      <th>neg/pos</th>\n",
       "    </tr>\n",
       "  </thead>\n",
       "  <tbody>\n",
       "    <tr>\n",
       "      <th>pd</th>\n",
       "      <td>329.0</td>\n",
       "      <td>126.0</td>\n",
       "      <td>455.0</td>\n",
       "      <td>2.611111</td>\n",
       "    </tr>\n",
       "    <tr>\n",
       "      <th>msa</th>\n",
       "      <td>300.0</td>\n",
       "      <td>155.0</td>\n",
       "      <td>455.0</td>\n",
       "      <td>1.935484</td>\n",
       "    </tr>\n",
       "    <tr>\n",
       "      <th>rbd</th>\n",
       "      <td>281.0</td>\n",
       "      <td>174.0</td>\n",
       "      <td>455.0</td>\n",
       "      <td>1.614943</td>\n",
       "    </tr>\n",
       "  </tbody>\n",
       "</table>\n",
       "</div>"
      ],
      "text/plain": [
       "     negative  positive  valid   neg/pos\n",
       "pd      329.0     126.0  455.0  2.611111\n",
       "msa     300.0     155.0  455.0  1.935484\n",
       "rbd     281.0     174.0  455.0  1.614943"
      ]
     },
     "execution_count": 3,
     "metadata": {},
     "output_type": "execute_result"
    }
   ],
   "source": [
    "df = pd.DataFrame()\n",
    "for col in ['pd', 'msa', 'rbd']:\n",
    "    df.loc[col, \"negative\"] = (index[col] == 0).sum()\n",
    "    df.loc[col, \"positive\"] = (index[col] == 1).sum()\n",
    "df[\"valid\"] = df[\"negative\"] + df[\"positive\"]\n",
    "df[\"neg/pos\"] = df[\"negative\"] / df[\"positive\"]\n",
    "df"
   ]
  }
 ],
 "metadata": {
  "kernelspec": {
   "display_name": "dl",
   "language": "python",
   "name": "python3"
  },
  "language_info": {
   "codemirror_mode": {
    "name": "ipython",
    "version": 3
   },
   "file_extension": ".py",
   "mimetype": "text/x-python",
   "name": "python",
   "nbconvert_exporter": "python",
   "pygments_lexer": "ipython3",
   "version": "3.11.7"
  }
 },
 "nbformat": 4,
 "nbformat_minor": 2
}
