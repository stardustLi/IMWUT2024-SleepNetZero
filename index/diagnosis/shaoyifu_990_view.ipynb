{
 "cells": [
  {
   "cell_type": "code",
   "execution_count": 1,
   "metadata": {},
   "outputs": [],
   "source": [
    "import pandas as pd"
   ]
  },
  {
   "cell_type": "code",
   "execution_count": 2,
   "metadata": {},
   "outputs": [
    {
     "data": {
      "text/plain": [
       "Index(['sub_folder', 'psg_uid', 'name', 'gender', 'age', 'patient_id', '抑郁',\n",
       "       '焦虑', '不明确的心境障碍', '失眠', '嗜睡症', '睡眠呼吸暂停', '帕金森', '发作性睡病', '原始诊断', 'path',\n",
       "       'duration', 'split'],\n",
       "      dtype='object')"
      ]
     },
     "execution_count": 2,
     "metadata": {},
     "output_type": "execute_result"
    }
   ],
   "source": [
    "index = pd.read_csv(\"shaoyifu_990.csv\")\n",
    "index.columns"
   ]
  },
  {
   "cell_type": "code",
   "execution_count": 3,
   "metadata": {},
   "outputs": [
    {
     "data": {
      "text/html": [
       "<div>\n",
       "<style scoped>\n",
       "    .dataframe tbody tr th:only-of-type {\n",
       "        vertical-align: middle;\n",
       "    }\n",
       "\n",
       "    .dataframe tbody tr th {\n",
       "        vertical-align: top;\n",
       "    }\n",
       "\n",
       "    .dataframe thead th {\n",
       "        text-align: right;\n",
       "    }\n",
       "</style>\n",
       "<table border=\"1\" class=\"dataframe\">\n",
       "  <thead>\n",
       "    <tr style=\"text-align: right;\">\n",
       "      <th></th>\n",
       "      <th>negative</th>\n",
       "      <th>positive</th>\n",
       "      <th>valid</th>\n",
       "      <th>neg/pos</th>\n",
       "    </tr>\n",
       "  </thead>\n",
       "  <tbody>\n",
       "    <tr>\n",
       "      <th>抑郁</th>\n",
       "      <td>727.0</td>\n",
       "      <td>260.0</td>\n",
       "      <td>987.0</td>\n",
       "      <td>2.796154</td>\n",
       "    </tr>\n",
       "    <tr>\n",
       "      <th>焦虑</th>\n",
       "      <td>827.0</td>\n",
       "      <td>160.0</td>\n",
       "      <td>987.0</td>\n",
       "      <td>5.168750</td>\n",
       "    </tr>\n",
       "    <tr>\n",
       "      <th>不明确的心境障碍</th>\n",
       "      <td>922.0</td>\n",
       "      <td>65.0</td>\n",
       "      <td>987.0</td>\n",
       "      <td>14.184615</td>\n",
       "    </tr>\n",
       "    <tr>\n",
       "      <th>失眠</th>\n",
       "      <td>899.0</td>\n",
       "      <td>88.0</td>\n",
       "      <td>987.0</td>\n",
       "      <td>10.215909</td>\n",
       "    </tr>\n",
       "    <tr>\n",
       "      <th>嗜睡症</th>\n",
       "      <td>982.0</td>\n",
       "      <td>5.0</td>\n",
       "      <td>987.0</td>\n",
       "      <td>196.400000</td>\n",
       "    </tr>\n",
       "    <tr>\n",
       "      <th>睡眠呼吸暂停</th>\n",
       "      <td>960.0</td>\n",
       "      <td>27.0</td>\n",
       "      <td>987.0</td>\n",
       "      <td>35.555556</td>\n",
       "    </tr>\n",
       "    <tr>\n",
       "      <th>帕金森</th>\n",
       "      <td>985.0</td>\n",
       "      <td>2.0</td>\n",
       "      <td>987.0</td>\n",
       "      <td>492.500000</td>\n",
       "    </tr>\n",
       "    <tr>\n",
       "      <th>发作性睡病</th>\n",
       "      <td>971.0</td>\n",
       "      <td>16.0</td>\n",
       "      <td>987.0</td>\n",
       "      <td>60.687500</td>\n",
       "    </tr>\n",
       "  </tbody>\n",
       "</table>\n",
       "</div>"
      ],
      "text/plain": [
       "          negative  positive  valid     neg/pos\n",
       "抑郁           727.0     260.0  987.0    2.796154\n",
       "焦虑           827.0     160.0  987.0    5.168750\n",
       "不明确的心境障碍     922.0      65.0  987.0   14.184615\n",
       "失眠           899.0      88.0  987.0   10.215909\n",
       "嗜睡症          982.0       5.0  987.0  196.400000\n",
       "睡眠呼吸暂停       960.0      27.0  987.0   35.555556\n",
       "帕金森          985.0       2.0  987.0  492.500000\n",
       "发作性睡病        971.0      16.0  987.0   60.687500"
      ]
     },
     "execution_count": 3,
     "metadata": {},
     "output_type": "execute_result"
    }
   ],
   "source": [
    "df = pd.DataFrame()\n",
    "for col in ['抑郁', '焦虑', '不明确的心境障碍', '失眠', '嗜睡症', '睡眠呼吸暂停', '帕金森', '发作性睡病']:\n",
    "    df.loc[col, \"negative\"] = (index[col] == 0).sum()\n",
    "    df.loc[col, \"positive\"] = (index[col] == 1).sum()\n",
    "df[\"valid\"] = df[\"negative\"] + df[\"positive\"]\n",
    "df[\"neg/pos\"] = df[\"negative\"] / df[\"positive\"]\n",
    "df"
   ]
  }
 ],
 "metadata": {
  "kernelspec": {
   "display_name": "dl",
   "language": "python",
   "name": "python3"
  },
  "language_info": {
   "codemirror_mode": {
    "name": "ipython",
    "version": 3
   },
   "file_extension": ".py",
   "mimetype": "text/x-python",
   "name": "python",
   "nbconvert_exporter": "python",
   "pygments_lexer": "ipython3",
   "version": "3.11.7"
  }
 },
 "nbformat": 4,
 "nbformat_minor": 2
}
